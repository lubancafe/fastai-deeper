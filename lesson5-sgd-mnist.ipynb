{
 "cells": [
  {
   "cell_type": "code",
   "execution_count": 1,
   "metadata": {},
   "outputs": [],
   "source": [
    "%matplotlib inline\n",
    "from fastai.basics import *"
   ]
  },
  {
   "cell_type": "markdown",
   "metadata": {},
   "source": [
    "## MNIST SGD"
   ]
  },
  {
   "cell_type": "markdown",
   "metadata": {},
   "source": [
    "Get the 'pickled' MNIST dataset from http://deeplearning.net/data/mnist/mnist.pkl.gz. We're going to treat it as a standard flat dataset with fully connected layers, rather than using a CNN."
   ]
  },
  {
   "cell_type": "code",
   "execution_count": 2,
   "metadata": {},
   "outputs": [],
   "source": [
    "path = Config().data_path()/'mnist'"
   ]
  },
  {
   "cell_type": "code",
   "execution_count": 3,
   "metadata": {},
   "outputs": [
    {
     "data": {
      "text/plain": [
       "WindowsPath('C:/Users/Tim/.fastai/data/mnist')"
      ]
     },
     "execution_count": 3,
     "metadata": {},
     "output_type": "execute_result"
    }
   ],
   "source": [
    "path"
   ]
  },
  {
   "cell_type": "code",
   "execution_count": 5,
   "metadata": {},
   "outputs": [
    {
     "data": {
      "text/plain": [
       "[WindowsPath('C:/Users/Tim/.fastai/data/mnist/mnist.pkl.gz')]"
      ]
     },
     "execution_count": 5,
     "metadata": {},
     "output_type": "execute_result"
    }
   ],
   "source": [
    "path.ls()"
   ]
  },
  {
   "cell_type": "code",
   "execution_count": 6,
   "metadata": {},
   "outputs": [],
   "source": [
    "with gzip.open(path/'mnist.pkl.gz', 'rb') as f:\n",
    "    ((x_train, y_train), (x_valid, y_valid), _) = pickle.load(f, encoding='latin-1')"
   ]
  },
  {
   "cell_type": "code",
   "execution_count": 10,
   "metadata": {},
   "outputs": [
    {
     "data": {
      "text/plain": [
       "(50000, 784)"
      ]
     },
     "execution_count": 10,
     "metadata": {},
     "output_type": "execute_result"
    },
    {
     "data": {
      "image/png": "[encoded data removed]",
      "text/plain": [
       "<Figure size 432x288 with 1 Axes>"
      ]
     },
     "metadata": {
      "needs_background": "light"
     },
     "output_type": "display_data"
    }
   ],
   "source": [
    "plt.imshow(x_train[0].reshape((28,28)), cmap=\"gray\")\n",
    "x_train.shape"
   ]
  },
  {
   "cell_type": "code",
   "execution_count": 11,
   "metadata": {},
   "outputs": [
    {
     "data": {
      "text/plain": [
       "(torch.Size([50000, 784]), tensor(0), tensor(9))"
      ]
     },
     "execution_count": 11,
     "metadata": {},
     "output_type": "execute_result"
    }
   ],
   "source": [
    "x_train,y_train,x_valid,y_valid = map(torch.tensor, (x_train,y_train,x_valid,y_valid))\n",
    "n,c = x_train.shape\n",
    "x_train.shape, y_train.min(), y_train.max()"
   ]
  },
  {
   "cell_type": "code",
   "execution_count": 12,
   "metadata": {},
   "outputs": [],
   "source": [
    "bs=64\n",
    "train_ds = TensorDataset(x_train, y_train)\n",
    "valid_ds = TensorDataset(x_valid, y_valid)\n",
    "data = DataBunch.create(train_ds, valid_ds, bs=bs)"
   ]
  },
  {
   "cell_type": "code",
   "execution_count": 13,
   "metadata": {},
   "outputs": [
    {
     "data": {
      "text/plain": [
       "(torch.Size([64, 784]), torch.Size([64]))"
      ]
     },
     "execution_count": 13,
     "metadata": {},
     "output_type": "execute_result"
    }
   ],
   "source": [
    "x,y = next(iter(data.train_dl))\n",
    "x.shape,y.shape"
   ]
  },
  {
   "cell_type": "code",
   "execution_count": 14,
   "metadata": {},
   "outputs": [],
   "source": [
    "class Mnist_Logistic(nn.Module):\n",
    "    def __init__(self):\n",
    "        super().__init__()\n",
    "        self.lin = nn.Linear(784, 10, bias=True)\n",
    "\n",
    "    def forward(self, xb): return self.lin(xb)"
   ]
  },
  {
   "cell_type": "code",
   "execution_count": 15,
   "metadata": {},
   "outputs": [],
   "source": [
    "model = Mnist_Logistic().cuda()"
   ]
  },
  {
   "cell_type": "code",
   "execution_count": 16,
   "metadata": {},
   "outputs": [
    {
     "data": {
      "text/plain": [
       "Mnist_Logistic(\n",
       "  (lin): Linear(in_features=784, out_features=10, bias=True)\n",
       ")"
      ]
     },
     "execution_count": 16,
     "metadata": {},
     "output_type": "execute_result"
    }
   ],
   "source": [
    "model"
   ]
  },
  {
   "cell_type": "code",
   "execution_count": 17,
   "metadata": {},
   "outputs": [
    {
     "data": {
      "text/plain": [
       "Linear(in_features=784, out_features=10, bias=True)"
      ]
     },
     "execution_count": 17,
     "metadata": {},
     "output_type": "execute_result"
    }
   ],
   "source": [
    "model.lin"
   ]
  },
  {
   "cell_type": "code",
   "execution_count": 18,
   "metadata": {},
   "outputs": [
    {
     "data": {
      "text/plain": [
       "torch.Size([64, 10])"
      ]
     },
     "execution_count": 18,
     "metadata": {},
     "output_type": "execute_result"
    }
   ],
   "source": [
    "model(x).shape"
   ]
  },
  {
   "cell_type": "code",
   "execution_count": 19,
   "metadata": {},
   "outputs": [
    {
     "data": {
      "text/plain": [
       "[torch.Size([10, 784]), torch.Size([10])]"
      ]
     },
     "execution_count": 19,
     "metadata": {},
     "output_type": "execute_result"
    }
   ],
   "source": [
    "[p.shape for p in model.parameters()]"
   ]
  },
  {
   "cell_type": "code",
   "execution_count": 20,
   "metadata": {},
   "outputs": [],
   "source": [
    "lr=2e-2"
   ]
  },
  {
   "cell_type": "code",
   "execution_count": 21,
   "metadata": {},
   "outputs": [],
   "source": [
    "loss_func = nn.CrossEntropyLoss()"
   ]
  },
  {
   "cell_type": "code",
   "execution_count": 24,
   "metadata": {},
   "outputs": [],
   "source": [
    "def update(x,y,lr):\n",
    "    wd = 1e-5\n",
    "    y_hat = model(x)\n",
    "    # weight decay\n",
    "    w2=0.\n",
    "    for p in model.parameters(): w2 += (p**2).sum()\n",
    "    # add to regular loss\n",
    "    loss = loss_func(y_hat, y) + w2*wd\n",
    "    loss.backward()\n",
    "    with torch.no_grad():\n",
    "        for p in model.parameters():\n",
    "            p.sub_(lr * p.grad)\n",
    "            p.grad.zero_()\n",
    "            \n",
    "    return loss.item()"
   ]
  },
  {
   "cell_type": "code",
   "execution_count": 25,
   "metadata": {},
   "outputs": [],
   "source": [
    "losses = [update(x,y,lr) for x,y in data.train_dl]"
   ]
  },
  {
   "cell_type": "code",
   "execution_count": 26,
   "metadata": {},
   "outputs": [
    {
     "data": {
      "text/plain": [
       "[2.3123390674591064,\n",
       " 2.2960007190704346,\n",
       " 2.296308994293213,\n",
       " 2.2707791328430176,\n",
       " 2.232548713684082,\n",
       " 2.2024331092834473,\n",
       " 2.178837299346924,\n",
       " 2.1480491161346436,\n",
       " 2.1335766315460205,\n",
       " 2.1341214179992676,\n",
       " 2.1300272941589355,\n",
       " 2.0634801387786865,\n",
       " 2.083730936050415,\n",
       " 2.0279736518859863,\n",
       " 2.0481834411621094,\n",
       " 1.9978371858596802,\n",
       " 1.9580291509628296,\n",
       " 1.9787030220031738,\n",
       " 2.0071792602539062,\n",
       " 1.9478449821472168,\n",
       " 1.9447617530822754,\n",
       " 1.9455760717391968,\n",
       " 1.8787156343460083,\n",
       " 1.8370319604873657,\n",
       " 1.8746486902236938,\n",
       " 1.846947193145752,\n",
       " 1.818721890449524,\n",
       " 1.8877766132354736,\n",
       " 1.8027275800704956,\n",
       " 1.79306960105896,\n",
       " 1.7119311094284058,\n",
       " 1.7499892711639404,\n",
       " 1.7003599405288696,\n",
       " 1.7869834899902344,\n",
       " 1.7999361753463745,\n",
       " 1.7657846212387085,\n",
       " 1.6570099592208862,\n",
       " 1.6952111721038818,\n",
       " 1.7202006578445435,\n",
       " 1.6144765615463257,\n",
       " 1.7239534854888916,\n",
       " 1.7101821899414062,\n",
       " 1.595996618270874,\n",
       " 1.6002148389816284,\n",
       " 1.634770154953003,\n",
       " 1.672638177871704,\n",
       " 1.5537930727005005,\n",
       " 1.5575757026672363,\n",
       " 1.4986205101013184,\n",
       " 1.5875675678253174,\n",
       " 1.524691104888916,\n",
       " 1.6489720344543457,\n",
       " 1.470841646194458,\n",
       " 1.5726959705352783,\n",
       " 1.479842185974121,\n",
       " 1.5196374654769897,\n",
       " 1.4687570333480835,\n",
       " 1.6058679819107056,\n",
       " 1.4831162691116333,\n",
       " 1.4230918884277344,\n",
       " 1.4927610158920288,\n",
       " 1.4732023477554321,\n",
       " 1.4723762273788452,\n",
       " 1.428368091583252,\n",
       " 1.4457080364227295,\n",
       " 1.461702823638916,\n",
       " 1.413501262664795,\n",
       " 1.3138247728347778,\n",
       " 1.4480044841766357,\n",
       " 1.5073003768920898,\n",
       " 1.5349974632263184,\n",
       " 1.3999186754226685,\n",
       " 1.3304193019866943,\n",
       " 1.3584250211715698,\n",
       " 1.4413855075836182,\n",
       " 1.368617057800293,\n",
       " 1.3342024087905884,\n",
       " 1.3390179872512817,\n",
       " 1.2448270320892334,\n",
       " 1.4510611295700073,\n",
       " 1.3386329412460327,\n",
       " 1.2352442741394043,\n",
       " 1.2650920152664185,\n",
       " 1.3762462139129639,\n",
       " 1.225036382675171,\n",
       " 1.2006628513336182,\n",
       " 1.3077198266983032,\n",
       " 1.1800687313079834,\n",
       " 1.3768196105957031,\n",
       " 1.26655113697052,\n",
       " 1.2775299549102783,\n",
       " 1.406015396118164,\n",
       " 1.2955498695373535,\n",
       " 1.0543709993362427,\n",
       " 1.2244476079940796,\n",
       " 1.2821701765060425,\n",
       " 1.2089451551437378,\n",
       " 1.2558262348175049,\n",
       " 1.1281315088272095,\n",
       " 1.2608709335327148,\n",
       " 1.3279224634170532,\n",
       " 1.2185286283493042,\n",
       " 1.2796504497528076,\n",
       " 1.2097725868225098,\n",
       " 1.1598241329193115,\n",
       " 1.2783832550048828,\n",
       " 1.0818861722946167,\n",
       " 1.0950199365615845,\n",
       " 1.099494457244873,\n",
       " 1.168953776359558,\n",
       " 1.2014268636703491,\n",
       " 1.0872267484664917,\n",
       " 1.0175151824951172,\n",
       " 1.1986613273620605,\n",
       " 1.1945081949234009,\n",
       " 1.216726541519165,\n",
       " 1.0820845365524292,\n",
       " 1.0623267889022827,\n",
       " 1.1514556407928467,\n",
       " 1.0920801162719727,\n",
       " 1.0393506288528442,\n",
       " 1.029633641242981,\n",
       " 1.0876398086547852,\n",
       " 1.1940726041793823,\n",
       " 1.114992618560791,\n",
       " 1.1392192840576172,\n",
       " 1.1438201665878296,\n",
       " 1.1432157754898071,\n",
       " 1.101458191871643,\n",
       " 1.127072811126709,\n",
       " 1.1255801916122437,\n",
       " 1.0828871726989746,\n",
       " 0.9797550439834595,\n",
       " 1.0373424291610718,\n",
       " 1.1487805843353271,\n",
       " 1.1013325452804565,\n",
       " 1.0850578546524048,\n",
       " 1.0817461013793945,\n",
       " 1.1225961446762085,\n",
       " 1.0458335876464844,\n",
       " 1.1015360355377197,\n",
       " 0.9628452658653259,\n",
       " 0.9821760654449463,\n",
       " 1.0352776050567627,\n",
       " 0.9021316170692444,\n",
       " 1.0453892946243286,\n",
       " 0.9600993394851685,\n",
       " 1.0291017293930054,\n",
       " 0.9864813089370728,\n",
       " 1.0514456033706665,\n",
       " 1.026037573814392,\n",
       " 1.0877903699874878,\n",
       " 1.0852651596069336,\n",
       " 1.0351697206497192,\n",
       " 1.0538307428359985,\n",
       " 0.9778344035148621,\n",
       " 1.051843285560608,\n",
       " 0.9031295776367188,\n",
       " 0.9540405869483948,\n",
       " 1.1068753004074097,\n",
       " 0.9469006657600403,\n",
       " 1.0570515394210815,\n",
       " 1.0188590288162231,\n",
       " 0.9385138750076294,\n",
       " 0.9980072379112244,\n",
       " 0.9156586527824402,\n",
       " 0.9509513974189758,\n",
       " 1.0575376749038696,\n",
       " 1.124200701713562,\n",
       " 0.927949845790863,\n",
       " 1.0508519411087036,\n",
       " 0.8758774995803833,\n",
       " 0.9271500110626221,\n",
       " 0.9479843974113464,\n",
       " 1.0736980438232422,\n",
       " 0.9503073692321777,\n",
       " 1.0607762336730957,\n",
       " 0.9858825206756592,\n",
       " 0.8180804252624512,\n",
       " 0.9208757877349854,\n",
       " 0.9862717390060425,\n",
       " 0.954161524772644,\n",
       " 1.0450819730758667,\n",
       " 1.04466712474823,\n",
       " 0.8720368146896362,\n",
       " 0.9805182814598083,\n",
       " 1.0253252983093262,\n",
       " 1.0815047025680542,\n",
       " 0.7614172101020813,\n",
       " 0.9860745668411255,\n",
       " 0.916710376739502,\n",
       " 0.7344751954078674,\n",
       " 0.8575980067253113,\n",
       " 0.9928944110870361,\n",
       " 0.866762101650238,\n",
       " 0.8243371248245239,\n",
       " 0.7405732870101929,\n",
       " 0.9094460606575012,\n",
       " 0.9124206304550171,\n",
       " 0.8689509630203247,\n",
       " 0.9478075504302979,\n",
       " 0.7869948148727417,\n",
       " 1.006757378578186,\n",
       " 1.019080400466919,\n",
       " 0.987205445766449,\n",
       " 0.8757637739181519,\n",
       " 0.7902167439460754,\n",
       " 0.8298759460449219,\n",
       " 1.1298185586929321,\n",
       " 0.7910090088844299,\n",
       " 1.0359001159667969,\n",
       " 0.7743145823478699,\n",
       " 0.918281078338623,\n",
       " 0.8436508178710938,\n",
       " 0.8081909418106079,\n",
       " 0.6786873936653137,\n",
       " 0.8176899552345276,\n",
       " 0.981295108795166,\n",
       " 0.7846212983131409,\n",
       " 0.6882033944129944,\n",
       " 0.8365194201469421,\n",
       " 0.832571268081665,\n",
       " 0.8636013269424438,\n",
       " 0.6597993969917297,\n",
       " 0.8932948708534241,\n",
       " 0.9769372344017029,\n",
       " 0.7500329613685608,\n",
       " 0.7983137965202332,\n",
       " 1.1273161172866821,\n",
       " 0.8695549964904785,\n",
       " 0.9235852956771851,\n",
       " 0.830974817276001,\n",
       " 0.8365111947059631,\n",
       " 0.8131740689277649,\n",
       " 0.9051011800765991,\n",
       " 0.7670766115188599,\n",
       " 0.9578192830085754,\n",
       " 0.7885781526565552,\n",
       " 0.7929640412330627,\n",
       " 0.8347407579421997,\n",
       " 0.871035099029541,\n",
       " 0.7426515817642212,\n",
       " 0.8467885255813599,\n",
       " 0.6542173027992249,\n",
       " 0.902397096157074,\n",
       " 0.766656219959259,\n",
       " 0.8015895485877991,\n",
       " 0.8039371371269226,\n",
       " 0.6695840358734131,\n",
       " 0.8755406141281128,\n",
       " 1.0178253650665283,\n",
       " 0.7314338684082031,\n",
       " 0.7876898646354675,\n",
       " 0.8999868631362915,\n",
       " 0.8140029311180115,\n",
       " 0.7918658256530762,\n",
       " 0.8775368332862854,\n",
       " 0.9250127673149109,\n",
       " 0.7037557363510132,\n",
       " 0.761738121509552,\n",
       " 0.7604058980941772,\n",
       " 0.8085944056510925,\n",
       " 0.7403772473335266,\n",
       " 0.7095035314559937,\n",
       " 0.7959198951721191,\n",
       " 0.7246863842010498,\n",
       " 0.7484837174415588,\n",
       " 0.7793335318565369,\n",
       " 0.8318883776664734,\n",
       " 0.8191309571266174,\n",
       " 0.7894642353057861,\n",
       " 0.7409228682518005,\n",
       " 0.578257143497467,\n",
       " 0.7265520691871643,\n",
       " 0.7477267980575562,\n",
       " 0.735733687877655,\n",
       " 0.7553308606147766,\n",
       " 0.7818548679351807,\n",
       " 0.8858950734138489,\n",
       " 0.7079663872718811,\n",
       " 0.7222215533256531,\n",
       " 0.743710994720459,\n",
       " 0.7289456725120544,\n",
       " 0.7139014005661011,\n",
       " 0.7564305663108826,\n",
       " 0.9636784791946411,\n",
       " 0.7455685138702393,\n",
       " 0.679309606552124,\n",
       " 0.7797608375549316,\n",
       " 0.8167750239372253,\n",
       " 0.7956533432006836,\n",
       " 0.7399277687072754,\n",
       " 0.7782968878746033,\n",
       " 0.8372124433517456,\n",
       " 0.7312630414962769,\n",
       " 0.7698229551315308,\n",
       " 0.815999448299408,\n",
       " 0.8107398152351379,\n",
       " 0.8210810422897339,\n",
       " 0.7288168668746948,\n",
       " 0.7045117020606995,\n",
       " 0.7779699563980103,\n",
       " 0.6837410926818848,\n",
       " 0.6592224836349487,\n",
       " 0.7219110727310181,\n",
       " 0.9060456156730652,\n",
       " 0.7318381071090698,\n",
       " 0.6503746509552002,\n",
       " 0.68951815366745,\n",
       " 0.7529220581054688,\n",
       " 0.8041377663612366,\n",
       " 0.829407811164856,\n",
       " 0.7041561603546143,\n",
       " 0.6769033670425415,\n",
       " 0.7016081213951111,\n",
       " 0.7426033616065979,\n",
       " 0.7836595177650452,\n",
       " 0.7453598976135254,\n",
       " 0.8502785563468933,\n",
       " 0.7019826173782349,\n",
       " 0.6722424030303955,\n",
       " 0.6551267504692078,\n",
       " 0.7059198617935181,\n",
       " 0.6599555611610413,\n",
       " 0.7888715863227844,\n",
       " 0.7122008204460144,\n",
       " 0.760202944278717,\n",
       " 0.7660089731216431,\n",
       " 0.7907435297966003,\n",
       " 0.816112220287323,\n",
       " 0.846336841583252,\n",
       " 0.7040217518806458,\n",
       " 0.764753520488739,\n",
       " 0.7434868812561035,\n",
       " 0.6969257593154907,\n",
       " 0.7483035922050476,\n",
       " 0.6265782713890076,\n",
       " 0.6139438152313232,\n",
       " 0.7392110824584961,\n",
       " 0.8073902130126953,\n",
       " 0.6586278676986694,\n",
       " 0.6737838387489319,\n",
       " 0.7202870845794678,\n",
       " 0.8251693248748779,\n",
       " 0.6551476716995239,\n",
       " 0.6080125570297241,\n",
       " 0.7173758745193481,\n",
       " 0.9049013257026672,\n",
       " 0.7412804365158081,\n",
       " 0.867548406124115,\n",
       " 0.7700280547142029,\n",
       " 0.5865684747695923,\n",
       " 0.7879725098609924,\n",
       " 0.7356693148612976,\n",
       " 0.8030926585197449,\n",
       " 0.6906499862670898,\n",
       " 0.8403608202934265,\n",
       " 0.7925173044204712,\n",
       " 0.7301486134529114,\n",
       " 0.7106388211250305,\n",
       " 0.696422815322876,\n",
       " 0.7343546152114868,\n",
       " 0.6984027028083801,\n",
       " 0.7356113195419312,\n",
       " 0.700803279876709,\n",
       " 0.7831207513809204,\n",
       " 0.7694860100746155,\n",
       " 0.6016232371330261,\n",
       " 0.6072229146957397,\n",
       " 0.6985676288604736,\n",
       " 0.6813845038414001,\n",
       " 0.642199695110321,\n",
       " 0.646047830581665,\n",
       " 0.595754861831665,\n",
       " 0.79933100938797,\n",
       " 0.7045761942863464,\n",
       " 0.583362340927124,\n",
       " 0.5538100600242615,\n",
       " 0.6339995861053467,\n",
       " 0.8063312768936157,\n",
       " 0.8243228793144226,\n",
       " 0.7033157348632812,\n",
       " 0.7613871693611145,\n",
       " 0.8627689480781555,\n",
       " 0.7632197737693787,\n",
       " 0.6233192682266235,\n",
       " 0.6506332159042358,\n",
       " 0.7507049441337585,\n",
       " 0.6387051939964294,\n",
       " 0.699174165725708,\n",
       " 0.6878281831741333,\n",
       " 0.7949015498161316,\n",
       " 0.664883017539978,\n",
       " 0.7955015897750854,\n",
       " 0.8492064476013184,\n",
       " 0.5591971278190613,\n",
       " 0.7532827258110046,\n",
       " 0.6373412013053894,\n",
       " 0.7166638374328613,\n",
       " 0.7492098808288574,\n",
       " 0.6894280314445496,\n",
       " 0.7287991642951965,\n",
       " 0.6986249685287476,\n",
       " 0.5241825580596924,\n",
       " 0.6663328409194946,\n",
       " 0.5654268860816956,\n",
       " 0.6440827250480652,\n",
       " 0.6995548605918884,\n",
       " 0.8584989905357361,\n",
       " 0.7058166861534119,\n",
       " 0.6741748452186584,\n",
       " 0.6452726721763611,\n",
       " 0.7461451292037964,\n",
       " 0.6572728753089905,\n",
       " 0.5121091604232788,\n",
       " 0.6911374926567078,\n",
       " 0.6049740314483643,\n",
       " 0.8139815330505371,\n",
       " 0.7405998110771179,\n",
       " 0.6124054789543152,\n",
       " 0.6831074953079224,\n",
       " 0.6658784747123718,\n",
       " 0.8966675996780396,\n",
       " 0.6268614530563354,\n",
       " 0.5197424292564392,\n",
       " 0.8198783993721008,\n",
       " 0.5788888335227966,\n",
       " 0.658247709274292,\n",
       " 0.703060507774353,\n",
       " 0.6938826441764832,\n",
       " 0.7316818833351135,\n",
       " 0.6898653507232666,\n",
       " 0.6838881969451904,\n",
       " 0.559533417224884,\n",
       " 0.5613088607788086,\n",
       " 0.592292070388794,\n",
       " 0.7684595584869385,\n",
       " 0.551619291305542,\n",
       " 0.664075493812561,\n",
       " 0.5523194670677185,\n",
       " 0.547178328037262,\n",
       " 0.7147924900054932,\n",
       " 0.6638424396514893,\n",
       " 0.590559720993042,\n",
       " 0.5902979969978333,\n",
       " 0.5268996953964233,\n",
       " 0.5625942349433899,\n",
       " 0.6508846879005432,\n",
       " 0.6126391887664795,\n",
       " 0.5786071419715881,\n",
       " 0.8602697849273682,\n",
       " 0.7794529795646667,\n",
       " 0.6937069296836853,\n",
       " 0.6612423062324524,\n",
       " 0.6290174126625061,\n",
       " 0.5563690066337585,\n",
       " 0.5713578462600708,\n",
       " 0.6292626261711121,\n",
       " 0.6406387686729431,\n",
       " 0.7070792317390442,\n",
       " 0.6707493662834167,\n",
       " 0.5562410354614258,\n",
       " 0.609596312046051,\n",
       " 0.8152444362640381,\n",
       " 0.7189944386482239,\n",
       " 0.45877787470817566,\n",
       " 0.5225142240524292,\n",
       " 0.6637557148933411,\n",
       " 0.5661894679069519,\n",
       " 0.7458024024963379,\n",
       " 0.6905101537704468,\n",
       " 0.5682260394096375,\n",
       " 0.602440357208252,\n",
       " 0.8079993724822998,\n",
       " 0.6372347474098206,\n",
       " 0.6794419884681702,\n",
       " 0.601275622844696,\n",
       " 0.836073100566864,\n",
       " 0.73521888256073,\n",
       " 0.780817985534668,\n",
       " 0.6499017477035522,\n",
       " 0.6442046165466309,\n",
       " 0.7901830673217773,\n",
       " 0.5689873695373535,\n",
       " 0.6678063273429871,\n",
       " 0.7569441199302673,\n",
       " 0.6289227604866028,\n",
       " 0.6595788598060608,\n",
       " 0.6924235820770264,\n",
       " 0.5473526120185852,\n",
       " 0.6122121214866638,\n",
       " 0.5292639136314392,\n",
       " 0.6353781223297119,\n",
       " 0.5715946555137634,\n",
       " 0.5802353620529175,\n",
       " 0.5604051351547241,\n",
       " 0.5438758134841919,\n",
       " 0.5130578279495239,\n",
       " 0.47183212637901306,\n",
       " 0.6794034838676453,\n",
       " 0.568137526512146,\n",
       " 0.7292575240135193,\n",
       " 0.5717790126800537,\n",
       " 0.5504324436187744,\n",
       " 0.5862147808074951,\n",
       " 0.6161017417907715,\n",
       " 0.7346481680870056,\n",
       " 0.5024549961090088,\n",
       " 0.7750428318977356,\n",
       " 0.6931145191192627,\n",
       " 0.6243919134140015,\n",
       " 0.4073403477668762,\n",
       " 0.4511372447013855,\n",
       " 0.6523023247718811,\n",
       " 0.6862178444862366,\n",
       " 0.5812587738037109,\n",
       " 0.6319147944450378,\n",
       " 0.5191826224327087,\n",
       " 0.5925863981246948,\n",
       " 0.5226030349731445,\n",
       " 0.5208737254142761,\n",
       " 0.5669829249382019,\n",
       " 0.5549763441085815,\n",
       " 0.5926891565322876,\n",
       " 0.5210739970207214,\n",
       " 0.6677565574645996,\n",
       " 0.5087382793426514,\n",
       " 0.6171221733093262,\n",
       " 0.6333085894584656,\n",
       " 0.5344367027282715,\n",
       " 0.7196078300476074,\n",
       " 0.5310187935829163,\n",
       " 0.5261613130569458,\n",
       " 0.6023828387260437,\n",
       " 0.5727369785308838,\n",
       " 0.742572009563446,\n",
       " 0.6323611736297607,\n",
       " 0.7269532084465027,\n",
       " 0.6156470775604248,\n",
       " 0.6583979725837708,\n",
       " 0.6417586803436279,\n",
       " 0.5709496140480042,\n",
       " 0.5254813432693481,\n",
       " 0.5791006684303284,\n",
       " 0.5399994254112244,\n",
       " 0.4971785247325897,\n",
       " 0.46974459290504456,\n",
       " 0.677681565284729,\n",
       " 0.5113345980644226,\n",
       " 0.6087238192558289,\n",
       " 0.6071048974990845,\n",
       " 0.6041418313980103,\n",
       " 0.5618831515312195,\n",
       " 0.5730881690979004,\n",
       " 0.6088902354240417,\n",
       " 0.5621964335441589,\n",
       " 0.6471153497695923,\n",
       " 0.5208529233932495,\n",
       " 0.6568677425384521,\n",
       " 0.6528470516204834,\n",
       " 0.6315947771072388,\n",
       " 0.6539087891578674,\n",
       " 0.6370818018913269,\n",
       " 0.49124473333358765,\n",
       " 0.5057979822158813,\n",
       " 0.5557371377944946,\n",
       " 0.5169738531112671,\n",
       " 0.5446341037750244,\n",
       " 0.5714176893234253,\n",
       " 0.5857333540916443,\n",
       " 0.5268999338150024,\n",
       " 0.3652596175670624,\n",
       " 0.6569646596908569,\n",
       " 0.5725727677345276,\n",
       " 0.7188464999198914,\n",
       " 0.4944933354854584,\n",
       " 0.45873215794563293,\n",
       " 0.6254464983940125,\n",
       " 0.5807049870491028,\n",
       " 0.7194392681121826,\n",
       " 0.5209436416625977,\n",
       " 0.6919894218444824,\n",
       " 0.61576247215271,\n",
       " 0.4482785761356354,\n",
       " 0.5160685181617737,\n",
       " 0.5438099503517151,\n",
       " 0.47785264253616333,\n",
       " 0.5818700194358826,\n",
       " 0.7245510816574097,\n",
       " 0.6048332452774048,\n",
       " 0.5593236088752747,\n",
       " 0.6207684278488159,\n",
       " 0.5211436152458191,\n",
       " 0.41349294781684875,\n",
       " 0.608686089515686,\n",
       " 0.4595564901828766,\n",
       " 0.5515533685684204,\n",
       " 0.6072248816490173,\n",
       " 0.5702412724494934,\n",
       " 0.5359983444213867,\n",
       " 0.6541765928268433,\n",
       " 0.5925195813179016,\n",
       " 0.6192301511764526,\n",
       " 0.5705693960189819,\n",
       " 0.5045499205589294,\n",
       " 0.6193596124649048,\n",
       " 0.5232215523719788,\n",
       " 0.6877796053886414,\n",
       " 0.5870809555053711,\n",
       " 0.6779430508613586,\n",
       " 0.6175712943077087,\n",
       " 0.5772325992584229,\n",
       " 0.5390265583992004,\n",
       " 0.5239573121070862,\n",
       " 0.7268553376197815,\n",
       " 0.635981559753418,\n",
       " 0.5344758629798889,\n",
       " 0.372976154088974,\n",
       " 0.5233500003814697,\n",
       " 0.560520350933075,\n",
       " 0.4413556456565857,\n",
       " 0.7370955348014832,\n",
       " 0.5039905309677124,\n",
       " 0.7666091322898865,\n",
       " 0.5146929621696472,\n",
       " 0.5270184278488159,\n",
       " 0.5545168519020081,\n",
       " 0.6414921879768372,\n",
       " 0.5041810870170593,\n",
       " 0.7431712746620178,\n",
       " 0.5898072123527527,\n",
       " 0.5999537110328674,\n",
       " 0.6201897859573364,\n",
       " 0.5428594350814819,\n",
       " 0.5385637879371643,\n",
       " 0.6263208985328674,\n",
       " 0.55021733045578,\n",
       " 0.5037779808044434,\n",
       " 0.5273435115814209,\n",
       " 0.5174896717071533,\n",
       " 0.5550844669342041,\n",
       " 0.5667238235473633,\n",
       " 0.6121003031730652,\n",
       " 0.5327349901199341,\n",
       " 0.504482626914978,\n",
       " 0.6653397083282471,\n",
       " 0.5436398386955261,\n",
       " 0.5456159114837646,\n",
       " 0.5481605529785156,\n",
       " 0.80699223279953,\n",
       " 0.6032022833824158,\n",
       " 0.6781249046325684,\n",
       " 0.49317219853401184,\n",
       " 0.5723503828048706,\n",
       " 0.5847768783569336,\n",
       " 0.4620104432106018,\n",
       " 0.5620128512382507,\n",
       " 0.521252453327179,\n",
       " 0.5596392154693604,\n",
       " 0.432115763425827,\n",
       " 0.6965312361717224,\n",
       " 0.46565869450569153,\n",
       " 0.5487783551216125,\n",
       " 0.5232057571411133,\n",
       " 0.6915169954299927,\n",
       " 0.44996780157089233,\n",
       " 0.44314149022102356,\n",
       " 0.4655115306377411,\n",
       " 0.6132740378379822,\n",
       " 0.4884817600250244,\n",
       " 0.6188178062438965,\n",
       " 0.5793759226799011,\n",
       " 0.654140055179596,\n",
       " 0.6427057385444641,\n",
       " 0.6932762265205383,\n",
       " 0.4975786507129669,\n",
       " 0.4510948657989502,\n",
       " 0.4783015549182892,\n",
       " 0.5535504221916199,\n",
       " 0.5728663206100464,\n",
       " 0.5975423455238342,\n",
       " 0.680574893951416,\n",
       " 0.5959222912788391,\n",
       " 0.5955456495285034,\n",
       " 0.6096116304397583,\n",
       " 0.49605464935302734,\n",
       " 0.5493800640106201,\n",
       " 0.6418972611427307,\n",
       " 0.554231584072113,\n",
       " 0.4442683458328247,\n",
       " 0.6636390089988708,\n",
       " 0.7204698920249939,\n",
       " 0.42887580394744873,\n",
       " 0.7078087329864502,\n",
       " 0.4442713260650635,\n",
       " 0.5744145512580872,\n",
       " 0.7198837399482727,\n",
       " 0.5988302230834961,\n",
       " 0.6274146437644958,\n",
       " 0.5627795457839966,\n",
       " 0.491203248500824,\n",
       " 0.6305899620056152,\n",
       " 0.49357131123542786,\n",
       " 0.5116360187530518,\n",
       " 0.4989696145057678,\n",
       " 0.4563770592212677,\n",
       " 0.6148425936698914,\n",
       " 0.5756797194480896,\n",
       " 0.5770671963691711,\n",
       " 0.6257728934288025,\n",
       " 0.430584579706192,\n",
       " 0.5328621864318848,\n",
       " 0.7162651419639587,\n",
       " 0.5492970943450928,\n",
       " 0.6103875041007996,\n",
       " 0.6667783856391907,\n",
       " 0.5052398443222046,\n",
       " 0.5171840786933899,\n",
       " 0.5278912782669067,\n",
       " 0.6208810806274414,\n",
       " 0.5785984992980957,\n",
       " 0.4969736337661743,\n",
       " 0.5767263770103455,\n",
       " 0.549009382724762,\n",
       " 0.6905475854873657,\n",
       " 0.5756994485855103,\n",
       " 0.43844181299209595,\n",
       " 0.53318852186203,\n",
       " 0.5579003691673279,\n",
       " 0.4339677393436432,\n",
       " 0.6421058773994446,\n",
       " 0.5051483511924744,\n",
       " 0.7533668875694275,\n",
       " 0.5488425493240356,\n",
       " 0.7079810500144958,\n",
       " 0.5595701336860657,\n",
       " 0.6453506946563721,\n",
       " 0.4760521650314331,\n",
       " 0.511263370513916,\n",
       " 0.5601006150245667,\n",
       " 0.5518381595611572,\n",
       " 0.6159972548484802,\n",
       " 0.6125645041465759,\n",
       " 0.5528762340545654,\n",
       " 0.33340778946876526,\n",
       " 0.6518831253051758,\n",
       " 0.4594208300113678,\n",
       " 0.5245558023452759,\n",
       " 0.5463367700576782,\n",
       " 0.5762051343917847,\n",
       " 0.7038348913192749,\n",
       " 0.4625292420387268,\n",
       " 0.4414893388748169,\n",
       " 0.7061556577682495,\n",
       " 0.5736740827560425,\n",
       " 0.5898694396018982,\n",
       " 0.5713413953781128,\n",
       " 0.764921247959137,\n",
       " 0.662102460861206,\n",
       " 0.5493820905685425,\n",
       " 0.5253949165344238,\n",
       " 0.5546122193336487,\n",
       " 0.5079697370529175,\n",
       " 0.42080041766166687,\n",
       " 0.6286603808403015,\n",
       " 0.5783963203430176,\n",
       " 0.5950121283531189,\n",
       " 0.6556474566459656,\n",
       " 0.43277397751808167,\n",
       " 0.47806140780448914,\n",
       " 0.6665690541267395,\n",
       " 0.6043480634689331,\n",
       " 0.641634464263916,\n",
       " 0.48809781670570374,\n",
       " 0.5548198223114014,\n",
       " 0.5635548830032349,\n",
       " 0.5268092155456543,\n",
       " 0.5648446083068848,\n",
       " 0.6983101963996887,\n",
       " 0.5032787919044495,\n",
       " 0.505606472492218]"
      ]
     },
     "execution_count": 26,
     "metadata": {},
     "output_type": "execute_result"
    }
   ],
   "source": [
    "losses"
   ]
  },
  {
   "cell_type": "code",
   "execution_count": 27,
   "metadata": {},
   "outputs": [
    {
     "data": {
      "image/png": "[encoded data removed]",
      "text/plain": [
       "<Figure size 432x288 with 1 Axes>"
      ]
     },
     "metadata": {
      "needs_background": "light"
     },
     "output_type": "display_data"
    }
   ],
   "source": [
    "plt.plot(losses);"
   ]
  },
  {
   "cell_type": "code",
   "execution_count": 28,
   "metadata": {},
   "outputs": [],
   "source": [
    "class Mnist_NN(nn.Module):\n",
    "    def __init__(self):\n",
    "        super().__init__()\n",
    "        self.lin1 = nn.Linear(784, 40, bias=True)\n",
    "        self.lin2 = nn.Linear(40, 10, bias=True)\n",
    "\n",
    "    def forward(self, xb):\n",
    "        x = self.lin1(xb)\n",
    "        x = F.relu(x)\n",
    "        return self.lin2(x)"
   ]
  },
  {
   "cell_type": "code",
   "execution_count": 29,
   "metadata": {},
   "outputs": [],
   "source": [
    "\n",
    "model = Mnist_NN().cuda()"
   ]
  },
  {
   "cell_type": "code",
   "execution_count": 30,
   "metadata": {},
   "outputs": [],
   "source": [
    "losses = [update(x,y,lr) for x,y in data.train_dl]"
   ]
  },
  {
   "cell_type": "code",
   "execution_count": 31,
   "metadata": {},
   "outputs": [
    {
     "data": {
      "image/png": "[encoded data removed]",
      "text/plain": [
       "<Figure size 432x288 with 1 Axes>"
      ]
     },
     "metadata": {
      "needs_background": "light"
     },
     "output_type": "display_data"
    }
   ],
   "source": [
    "plt.plot(losses);"
   ]
  },
  {
   "cell_type": "code",
   "execution_count": 32,
   "metadata": {},
   "outputs": [],
   "source": [
    "model = Mnist_NN().cuda()"
   ]
  },
  {
   "cell_type": "code",
   "execution_count": 33,
   "metadata": {},
   "outputs": [],
   "source": [
    "def update(x,y,lr):\n",
    "    opt = optim.Adam(model.parameters(), lr)\n",
    "    y_hat = model(x)\n",
    "    loss = loss_func(y_hat, y)\n",
    "    loss.backward()\n",
    "    opt.step()\n",
    "    opt.zero_grad()\n",
    "    return loss.item()"
   ]
  },
  {
   "cell_type": "code",
   "execution_count": 34,
   "metadata": {},
   "outputs": [],
   "source": [
    "losses = [update(x,y,1e-3) for x,y in data.train_dl]"
   ]
  },
  {
   "cell_type": "code",
   "execution_count": 35,
   "metadata": {},
   "outputs": [
    {
     "data": {
      "text/plain": [
       "[<matplotlib.lines.Line2D at 0x2083cedb9e8>]"
      ]
     },
     "execution_count": 35,
     "metadata": {},
     "output_type": "execute_result"
    },
    {
     "data": {
      "image/png": "[encoded data removed]",
      "text/plain": [
       "<Figure size 432x288 with 1 Axes>"
      ]
     },
     "metadata": {
      "needs_background": "light"
     },
     "output_type": "display_data"
    }
   ],
   "source": [
    "plt.plot(losses)"
   ]
  },
  {
   "cell_type": "code",
   "execution_count": 36,
   "metadata": {},
   "outputs": [],
   "source": [
    "learn = Learner(data, Mnist_NN(), loss_func=loss_func, metrics=accuracy)"
   ]
  },
  {
   "cell_type": "code",
   "execution_count": 37,
   "metadata": {},
   "outputs": [
    {
     "name": "stdout",
     "output_type": "stream",
     "text": [
      "> \u001b[1;32m<ipython-input-22-f0137951272f>\u001b[0m(5)\u001b[0;36mupdate\u001b[1;34m()\u001b[0m\n",
      "\u001b[1;32m      3 \u001b[1;33m    \u001b[0my_hat\u001b[0m \u001b[1;33m=\u001b[0m \u001b[0mmodel\u001b[0m\u001b[1;33m(\u001b[0m\u001b[0mx\u001b[0m\u001b[1;33m)\u001b[0m\u001b[1;33m\u001b[0m\u001b[1;33m\u001b[0m\u001b[0m\n",
      "\u001b[0m\u001b[1;32m      4 \u001b[1;33m    \u001b[1;31m# weight decay\u001b[0m\u001b[1;33m\u001b[0m\u001b[1;33m\u001b[0m\u001b[1;33m\u001b[0m\u001b[0m\n",
      "\u001b[0m\u001b[1;32m----> 5 \u001b[1;33m    \u001b[1;32mfor\u001b[0m \u001b[0mp\u001b[0m \u001b[1;32min\u001b[0m \u001b[0mmodel\u001b[0m\u001b[1;33m.\u001b[0m\u001b[0mparameters\u001b[0m\u001b[1;33m(\u001b[0m\u001b[1;33m)\u001b[0m\u001b[1;33m:\u001b[0m \u001b[0mw2\u001b[0m \u001b[1;33m+=\u001b[0m \u001b[1;33m(\u001b[0m\u001b[0mp\u001b[0m\u001b[1;33m**\u001b[0m\u001b[1;36m2\u001b[0m\u001b[1;33m)\u001b[0m\u001b[1;33m.\u001b[0m\u001b[0msum\u001b[0m\u001b[1;33m(\u001b[0m\u001b[1;33m)\u001b[0m\u001b[1;33m\u001b[0m\u001b[1;33m\u001b[0m\u001b[0m\n",
      "\u001b[0m\u001b[1;32m      6 \u001b[1;33m    \u001b[1;31m# add to regular loss\u001b[0m\u001b[1;33m\u001b[0m\u001b[1;33m\u001b[0m\u001b[1;33m\u001b[0m\u001b[0m\n",
      "\u001b[0m\u001b[1;32m      7 \u001b[1;33m    \u001b[0mloss\u001b[0m \u001b[1;33m=\u001b[0m \u001b[0mloss_func\u001b[0m\u001b[1;33m(\u001b[0m\u001b[0my_hat\u001b[0m\u001b[1;33m,\u001b[0m \u001b[0my\u001b[0m\u001b[1;33m)\u001b[0m \u001b[1;33m+\u001b[0m \u001b[0mw2\u001b[0m\u001b[1;33m*\u001b[0m\u001b[0mwd\u001b[0m\u001b[1;33m\u001b[0m\u001b[1;33m\u001b[0m\u001b[0m\n",
      "\u001b[0m\n",
      "ipdb> \n",
      "ipdb> \n",
      "ipdb> u\n",
      "> \u001b[1;32m<ipython-input-23-36d1490bd9f3>\u001b[0m(1)\u001b[0;36m<listcomp>\u001b[1;34m()\u001b[0m\n",
      "\u001b[1;32m----> 1 \u001b[1;33m\u001b[0mlosses\u001b[0m \u001b[1;33m=\u001b[0m \u001b[1;33m[\u001b[0m\u001b[0mupdate\u001b[0m\u001b[1;33m(\u001b[0m\u001b[0mx\u001b[0m\u001b[1;33m,\u001b[0m\u001b[0my\u001b[0m\u001b[1;33m,\u001b[0m\u001b[0mlr\u001b[0m\u001b[1;33m)\u001b[0m \u001b[1;32mfor\u001b[0m \u001b[0mx\u001b[0m\u001b[1;33m,\u001b[0m\u001b[0my\u001b[0m \u001b[1;32min\u001b[0m \u001b[0mdata\u001b[0m\u001b[1;33m.\u001b[0m\u001b[0mtrain_dl\u001b[0m\u001b[1;33m]\u001b[0m\u001b[1;33m\u001b[0m\u001b[1;33m\u001b[0m\u001b[0m\n",
      "\u001b[0m\n",
      "ipdb> print(k)\n",
      "*** NameError: name 'k' is not defined\n",
      "ipdb> loss_func\n",
      "CrossEntropyLoss()\n",
      "ipdb> q\n"
     ]
    }
   ],
   "source": [
    "%debug"
   ]
  },
  {
   "cell_type": "code",
   "execution_count": 38,
   "metadata": {},
   "outputs": [
    {
     "data": {
      "text/html": [],
      "text/plain": [
       "<IPython.core.display.HTML object>"
      ]
     },
     "metadata": {},
     "output_type": "display_data"
    },
    {
     "name": "stdout",
     "output_type": "stream",
     "text": [
      "LR Finder is complete, type {learner_name}.recorder.plot() to see the graph.\n"
     ]
    }
   ],
   "source": [
    "learn.lr_find()"
   ]
  },
  {
   "cell_type": "code",
   "execution_count": 39,
   "metadata": {},
   "outputs": [
    {
     "data": {
      "image/png": "[encoded data removed]",
      "text/plain": [
       "<Figure size 432x288 with 1 Axes>"
      ]
     },
     "metadata": {
      "needs_background": "light"
     },
     "output_type": "display_data"
    }
   ],
   "source": [
    "learn.recorder.plot()"
   ]
  },
  {
   "cell_type": "code",
   "execution_count": 40,
   "metadata": {},
   "outputs": [
    {
     "data": {
      "text/html": [
       "<table border=\"1\" class=\"dataframe\">\n",
       "  <thead>\n",
       "    <tr style=\"text-align: left;\">\n",
       "      <th>epoch</th>\n",
       "      <th>train_loss</th>\n",
       "      <th>valid_loss</th>\n",
       "      <th>accuracy</th>\n",
       "      <th>time</th>\n",
       "    </tr>\n",
       "  </thead>\n",
       "  <tbody>\n",
       "    <tr>\n",
       "      <td>0</td>\n",
       "      <td>0.154231</td>\n",
       "      <td>0.142963</td>\n",
       "      <td>0.958700</td>\n",
       "      <td>00:23</td>\n",
       "    </tr>\n",
       "  </tbody>\n",
       "</table>"
      ],
      "text/plain": [
       "<IPython.core.display.HTML object>"
      ]
     },
     "metadata": {},
     "output_type": "display_data"
    }
   ],
   "source": [
    "learn.fit_one_cycle(1, 1e-2)"
   ]
  },
  {
   "cell_type": "code",
   "execution_count": 41,
   "metadata": {},
   "outputs": [
    {
     "data": {
      "image/png": "[encoded data removed]",
      "text/plain": [
       "<Figure size 864x288 with 2 Axes>"
      ]
     },
     "metadata": {
      "needs_background": "light"
     },
     "output_type": "display_data"
    }
   ],
   "source": [
    "learn.recorder.plot_lr(show_moms=True)"
   ]
  },
  {
   "cell_type": "code",
   "execution_count": 42,
   "metadata": {},
   "outputs": [
    {
     "data": {
      "image/png": "[encoded data removed]",
      "text/plain": [
       "<Figure size 432x288 with 1 Axes>"
      ]
     },
     "metadata": {
      "needs_background": "light"
     },
     "output_type": "display_data"
    }
   ],
   "source": [
    "learn.recorder.plot_losses()"
   ]
  },
  {
   "cell_type": "code",
   "execution_count": 43,
   "metadata": {},
   "outputs": [
    {
     "data": {
      "text/html": [
       "<table border=\"1\" class=\"dataframe\">\n",
       "  <thead>\n",
       "    <tr style=\"text-align: left;\">\n",
       "      <th>epoch</th>\n",
       "      <th>train_loss</th>\n",
       "      <th>valid_loss</th>\n",
       "      <th>accuracy</th>\n",
       "      <th>time</th>\n",
       "    </tr>\n",
       "  </thead>\n",
       "  <tbody>\n",
       "    <tr>\n",
       "      <td>0</td>\n",
       "      <td>0.119562</td>\n",
       "      <td>0.117384</td>\n",
       "      <td>0.964900</td>\n",
       "      <td>00:25</td>\n",
       "    </tr>\n",
       "  </tbody>\n",
       "</table>"
      ],
      "text/plain": [
       "<IPython.core.display.HTML object>"
      ]
     },
     "metadata": {},
     "output_type": "display_data"
    }
   ],
   "source": [
    "learn.fit_one_cycle(1, 1e-2)"
   ]
  },
  {
   "cell_type": "code",
   "execution_count": null,
   "metadata": {},
   "outputs": [],
   "source": []
  }
 ],
 "metadata": {
  "kernelspec": {
   "display_name": "Python 3",
   "language": "python",
   "name": "python3"
  },
  "language_info": {
   "codemirror_mode": {
    "name": "ipython",
    "version": 3
   },
   "file_extension": ".py",
   "mimetype": "text/x-python",
   "name": "python",
   "nbconvert_exporter": "python",
   "pygments_lexer": "ipython3",
   "version": "3.6.7"
  }
 },
 "nbformat": 4,
 "nbformat_minor": 2
}
